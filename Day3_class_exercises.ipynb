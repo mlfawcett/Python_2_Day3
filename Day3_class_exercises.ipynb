{
 "cells": [
  {
   "cell_type": "code",
   "execution_count": 43,
   "metadata": {},
   "outputs": [],
   "source": [
    "class Pet(object):\n",
    "    def __init__(self, name, age, history, humansName):\n",
    "        self.name = name\n",
    "        self.age = age\n",
    "        self.history = history\n",
    "        self.humansName = humansName\n",
    "    def Greeting(self):\n",
    "        print(f\"Hello {self.name}\")\n",
    "class Dog(Pet):\n",
    "    def __init__(self, name, age, history, humansName, fixed, isHyper):\n",
    "        super().__init__(name, age, history, humansName)\n",
    "        self.fixed = fixed\n",
    "        self.isHyper = isHyper\n",
    "class Cat(Pet):\n",
    "    def __init__(self, name, age, history, humansName, declawed, likesToBeTouched):\n",
    "        super().__init__(name, age, history, humansName)\n",
    "        self.declawed = declawed\n",
    "        self.likesToBeTouched = likesToBeTouched\n",
    "class Rodents(Pet):\n",
    "    def __init__(self, name, age, history, humansName, trained, cute):\n",
    "        super().__init__(name, age, history, humansName)\n",
    "        self.trained = trained\n",
    "        self.cute = cute\n",
    "        \n",
    "dogOne = Dog(\"George\", \"9\", \"None\", \"Michael\", \"yes\", \"yes\")\n",
    "dogTwo = Dog(\"Suny\", \"11\", \"None\", \"Michael\", \"yes\", \"no\")"
   ]
  },
  {
   "cell_type": "code",
   "execution_count": 46,
   "metadata": {},
   "outputs": [
    {
     "name": "stdout",
     "output_type": "stream",
     "text": [
      "George\n",
      "9\n",
      "None\n",
      "Michael\n",
      "yes\n",
      "yes\n",
      "\n",
      "Suny\n",
      "11\n",
      "None\n",
      "Michael\n",
      "yes\n",
      "no\n",
      "\n",
      "Hello George\n",
      "Hello Suny\n"
     ]
    }
   ],
   "source": [
    "print(dogOne.name)\n",
    "print(dogOne.age)\n",
    "print(dogOne.history)\n",
    "print(dogOne.humansName)\n",
    "print(dogOne.fixed)\n",
    "print(dogOne.isHyper)\n",
    "print()\n",
    "print(dogTwo.name)\n",
    "print(dogTwo.age)\n",
    "print(dogTwo.history)\n",
    "print(dogTwo.humansName)\n",
    "print(dogTwo.fixed)\n",
    "print(dogTwo.isHyper)\n",
    "print()\n",
    "dogOne.Greeting()\n",
    "dogTwo.Greeting()"
   ]
  },
  {
   "cell_type": "code",
   "execution_count": 32,
   "metadata": {},
   "outputs": [],
   "source": [
    "class num:\n",
    "    def __init__(self, val):\n",
    "        self.val = val\n",
    "    def is_divis(self, factor):\n",
    "        return self.val % factor == 0\n",
    "    def is_prime(self):\n",
    "        isprime = True\n",
    "        y = self.val\n",
    "        for i in range(2,y):\n",
    "            if y % i == 0:\n",
    "                isprime = False\n",
    "        return isprime\n",
    "    def is_even(self):\n",
    "        return self.is_divis(2)\n",
    "    def is_odd(self):\n",
    "        return self.val % 2 != 0\n"
   ]
  },
  {
   "cell_type": "code",
   "execution_count": 33,
   "metadata": {},
   "outputs": [
    {
     "data": {
      "text/plain": [
       "True"
      ]
     },
     "execution_count": 33,
     "metadata": {},
     "output_type": "execute_result"
    }
   ],
   "source": [
    "x = num(9)\n",
    "x.is_odd()"
   ]
  },
  {
   "cell_type": "code",
   "execution_count": 47,
   "metadata": {},
   "outputs": [],
   "source": [
    "#collatz\n",
    "#even - divide by 2\n",
    "#odd - multiply by 3 and add 1\n",
    "\n",
    "def collatz(y):\n",
    "    while y != 1:\n",
    "        print(y)\n",
    "        if y%2 == 0:\n",
    "            y = y // 2       # Interger division\n",
    "        else:\n",
    "            y = (y*3)+1\n",
    "    print(y)"
   ]
  },
  {
   "cell_type": "code",
   "execution_count": 103,
   "metadata": {},
   "outputs": [
    {
     "name": "stdout",
     "output_type": "stream",
     "text": [
      "27\n",
      "82\n",
      "41\n",
      "124\n",
      "62\n",
      "31\n",
      "94\n",
      "47\n",
      "142\n",
      "71\n",
      "214\n",
      "107\n",
      "322\n",
      "161\n",
      "484\n",
      "242\n",
      "121\n",
      "364\n",
      "182\n",
      "91\n",
      "274\n",
      "137\n",
      "412\n",
      "206\n",
      "103\n",
      "310\n",
      "155\n",
      "466\n",
      "233\n",
      "700\n",
      "350\n",
      "175\n",
      "526\n",
      "263\n",
      "790\n",
      "395\n",
      "1186\n",
      "593\n",
      "1780\n",
      "890\n",
      "445\n",
      "1336\n",
      "668\n",
      "334\n",
      "167\n",
      "502\n",
      "251\n",
      "754\n",
      "377\n",
      "1132\n",
      "566\n",
      "283\n",
      "850\n",
      "425\n",
      "1276\n",
      "638\n",
      "319\n",
      "958\n",
      "479\n",
      "1438\n",
      "719\n",
      "2158\n",
      "1079\n",
      "3238\n",
      "1619\n",
      "4858\n",
      "2429\n",
      "7288\n",
      "3644\n",
      "1822\n",
      "911\n",
      "2734\n",
      "1367\n",
      "4102\n",
      "2051\n",
      "6154\n",
      "3077\n",
      "9232\n",
      "4616\n",
      "2308\n",
      "1154\n",
      "577\n",
      "1732\n",
      "866\n",
      "433\n",
      "1300\n",
      "650\n",
      "325\n",
      "976\n",
      "488\n",
      "244\n",
      "122\n",
      "61\n",
      "184\n",
      "92\n",
      "46\n",
      "23\n",
      "70\n",
      "35\n",
      "106\n",
      "53\n",
      "160\n",
      "80\n",
      "40\n",
      "20\n",
      "10\n",
      "5\n",
      "16\n",
      "8\n",
      "4\n",
      "2\n",
      "1\n"
     ]
    }
   ],
   "source": [
    "collatz(27)\n"
   ]
  },
  {
   "cell_type": "code",
   "execution_count": 53,
   "metadata": {},
   "outputs": [],
   "source": [
    "import random as rand\n",
    "\n",
    "Answers = [\n",
    "    \"It is certain\",\n",
    "    \"It is decidedly so\",\n",
    "    \"Without a doubt\",\n",
    "    \"Yes definitely\",\n",
    "    \"You may rely on it\",\n",
    "    \"As I see it, yes\",\n",
    "    \"Most likely\",\n",
    "    \"Outlook good\",\n",
    "    \"Yes\",\n",
    "    \"Signs point to yes\",\n",
    "    \"Reply hazy try again\",\n",
    "    \"Ask again later\",\n",
    "    \"Better not tell you now\",\n",
    "    \"Cannot predict now\",\n",
    "    \"Concentrate and ask again\",\n",
    "    \"Don't count on it\",\n",
    "    \"My reply is no\",\n",
    "    \"My sources say no\",\n",
    "    \"Outlook not so good\",\n",
    "    \"Very doubtful\"\n",
    "]"
   ]
  },
  {
   "cell_type": "code",
   "execution_count": 57,
   "metadata": {},
   "outputs": [
    {
     "name": "stdout",
     "output_type": "stream",
     "text": [
      "Ask your question --> Will I finish Python?\n",
      "YOU ASKED:  Will I finish Python?\n",
      "MAGIC 8-BALL SAYS:  My sources say no\n",
      "Do you have another question for the Magic 8-Ball? (y/n) -->y\n",
      "Ask your question --> Will I become a programmer?\n",
      "YOU ASKED:  Will I become a programmer?\n",
      "MAGIC 8-BALL SAYS:  My reply is no\n",
      "Do you have another question for the Magic 8-Ball? (y/n) -->y\n",
      "Ask your question --> n\n",
      "YOU ASKED:  n\n",
      "MAGIC 8-BALL SAYS:  My reply is no\n",
      "Do you have another question for the Magic 8-Ball? (y/n) -->n\n",
      "Thank you for playing!\n"
     ]
    }
   ],
   "source": [
    "def ShakeTheEightBall():\n",
    "    while True:\n",
    "        question = input(\"Ask your question --> \")\n",
    "        print(\"YOU ASKED: \", question)\n",
    "        print(\"MAGIC 8-BALL SAYS: \", rand.choice(Answers))\n",
    "        question = input(\"Do you have another question for the Magic 8-Ball? (y/n) -->\")\n",
    "        if question == \"n\":\n",
    "            print(\"Thank you for playing!\")\n",
    "            break\n",
    "\n",
    "ShakeTheEightBall()"
   ]
  },
  {
   "cell_type": "code",
   "execution_count": 8,
   "metadata": {},
   "outputs": [
    {
     "name": "stdout",
     "output_type": "stream",
     "text": [
      "Hello World\n",
      "Not a palindrome, boo\n"
     ]
    }
   ],
   "source": [
    "# A man a plan a canal panama\n",
    "# palindrome\n",
    "\n",
    "def remove_whitespace(string):\n",
    "    return string.replace(\" \", \"\")\n",
    "def make_all_lower_case(string):\n",
    "    return string.lower()\n",
    "def reverse_string(string):\n",
    "    newList = list(string)\n",
    "#    print(newList)\n",
    "    newList.reverse()\n",
    "#    print(newList)\n",
    "    revString = \"\".join(newList)\n",
    "    return revString\n",
    "\n",
    "\n",
    "#sentence = input(\"Type in a possible palindrome -->\")\n",
    "sentence = \"Hello World\"\n",
    "print(sentence)\n",
    "sentence = remove_whitespace(sentence)\n",
    "#print(sentence)\n",
    "sentence = make_all_lower_case(sentence)\n",
    "#print(sentence)\n",
    "reversedString = reverse_string(sentence)\n",
    "#print(reversedString)\n",
    "\n",
    "if sentence == reversedString:\n",
    "    print(\"It's a palindrome, hooray\")\n",
    "else:\n",
    "    print(\"Not a palindrome, boo\")\n",
    "    \n"
   ]
  },
  {
   "cell_type": "code",
   "execution_count": 21,
   "metadata": {},
   "outputs": [],
   "source": [
    "def isPalindrome(sentence):\n",
    "    for punc in (\" \", \"'\", \"?\", \".\", \"/\", \",\", \"!\", \":\"):\n",
    "        sentence = sentence.replace(punc, \"\")\n",
    "#     sentence = sentence.replace(\" \", \"\")\n",
    "#     sentence = sentence.replace(\"'\", \"\")\n",
    "#     sentence = sentence.replace(\"?\", \"\")\n",
    "    sentence = sentence.lower()\n",
    "    newList = list(sentence)\n",
    "    newList.reverse()\n",
    "    revString = \"\".join(newList)\n",
    "    if sentence == revString:\n",
    "        return True\n",
    "    else:\n",
    "        return False\n",
    "    "
   ]
  },
  {
   "cell_type": "code",
   "execution_count": 23,
   "metadata": {},
   "outputs": [
    {
     "name": "stdout",
     "output_type": "stream",
     "text": [
      "True\n",
      "False\n",
      "True\n",
      "True\n",
      "True\n",
      "True\n",
      "True\n",
      "True\n",
      "True\n",
      "True\n",
      "True\n",
      "False\n",
      "True\n",
      "True\n",
      "True\n",
      "True\n",
      "True\n",
      "True\n",
      "False\n"
     ]
    }
   ],
   "source": [
    "print(isPalindrome(\"madam\"))\n",
    "print(isPalindrome(\"Hello World\"))\n",
    "print(isPalindrome(\"A man a plan a canal panama\"))\n",
    "print(isPalindrome(\"nurses run\"))\n",
    "print(isPalindrome(\"Madam I'm Adam\"))\n",
    "print(isPalindrome(\"Never odd or even\"))\n",
    "print(isPalindrome(\"racecar\"))\n",
    "print(isPalindrome(\"Do geese see God?\"))\n",
    "print(isPalindrome(\"Mr. Owl ate my metal worm\"))\n",
    "print(isPalindrome(\"kayak\"))\n",
    "print(isPalindrome(\"Robert Trebor\"))\n",
    "print(isPalindrome(\"Check this out\"))\n",
    "print(isPalindrome(\"02/02/2020\"))\n",
    "print(isPalindrome(\"Madam, in Eden, I'm Adam\"))\n",
    "print(isPalindrome(\"Space caps\"))\n",
    "print(isPalindrome(\"Was It A Rat I Saw?\"))\n",
    "print(isPalindrome(\"Eva, Can I Stab Bats In A Cave?\"))\n",
    "print(isPalindrome(\"Doc, Note: I Dissent. A Fast Never Prevents A Fatness. I Diet On Cod.\"))\n",
    "print(isPalindrome(\"\"\"Eva, Can I Stab Doc, Note: I Dissent. A Fast Never Prevents\n",
    "                      A Fatness. I Diet On Cod. Bats In A Cave?\"\"\"))\n",
    "                  # https://www.toptenz.net/top-10-famous-palindromes.php"
   ]
  },
  {
   "cell_type": "code",
   "execution_count": 16,
   "metadata": {},
   "outputs": [
    {
     "name": "stdout",
     "output_type": "stream",
     "text": [
      "Type in a possible palindrome --> trace cart\n",
      "It's a palindrome, hooray\n"
     ]
    }
   ],
   "source": [
    "#import isPalindrome still have to figure this part out\n",
    "\n",
    "sentence = input(\"Type in a possible palindrome --> \")\n",
    "if isPalindrome(sentence):\n",
    "    print(\"It's a palindrome, hooray\")\n",
    "else:\n",
    "    print(\"Not a palindrome, boo\")"
   ]
  },
  {
   "cell_type": "code",
   "execution_count": null,
   "metadata": {},
   "outputs": [],
   "source": []
  }
 ],
 "metadata": {
  "kernelspec": {
   "display_name": "Python 3",
   "language": "python",
   "name": "python3"
  },
  "language_info": {
   "codemirror_mode": {
    "name": "ipython",
    "version": 3
   },
   "file_extension": ".py",
   "mimetype": "text/x-python",
   "name": "python",
   "nbconvert_exporter": "python",
   "pygments_lexer": "ipython3",
   "version": "3.7.6"
  }
 },
 "nbformat": 4,
 "nbformat_minor": 4
}
